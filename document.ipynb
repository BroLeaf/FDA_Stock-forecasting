{
 "cells": [
  {
   "cell_type": "markdown",
   "metadata": {},
   "source": [
    "# 1. Data preprocessing\n",
    "\n",
    "* 用 `numpy.isnan` 檢查有沒有非法的數字，False 就表示沒有\n"
   ]
  },
  {
   "cell_type": "code",
   "execution_count": null,
   "metadata": {},
   "outputs": [],
   "source": [
    "print( numpy.isnan((pd_data_train).any()) )\n",
    "print( numpy.isnan((pd_data_test).any()) )\n",
    "\n",
    "\"\"\" output\n",
    "Date           False\n",
    "Open Price     False\n",
    "Close Price    False\n",
    "High Price     False\n",
    "Low Price      False\n",
    "Volume         False\n",
    "dtype: bool\n",
    "Date           False\n",
    "Open Price     False\n",
    "Close Price    False\n",
    "High Price     False\n",
    "Low Price      False\n",
    "Volume         False\n",
    "dtype: bool\n",
    "\"\"\""
   ]
  },
  {
   "cell_type": "markdown",
   "metadata": {},
   "source": [
    "* 因為預測只會用到 `Data`、`Close Price` 所以只針對這兩列做處理\n",
    "\n",
    "`Data`：將格式改成 **yyyymmdd**，因此實做出 switch 功能，將月份轉成數字，再重組字串\n",
    "\n",
    "`Close Price`：需要的只是與前一天的比較結果，而每份資料的第一筆是 **1月1日** 無法得知，所以要去除，\n",
    "    隔週就以上一週最後一天比較（就是跟前一筆比）\n",
    "    最後再將結果存入新的 dataframe 中\n",
    "    \n",
    "對 train, test set 做相同動作"
   ]
  },
  {
   "cell_type": "code",
   "execution_count": null,
   "metadata": {},
   "outputs": [],
   "source": [
    "# Use lambda to implement switch\n",
    "switcher_month = {\n",
    "    'Jan': '01',\n",
    "    'Feb': '02',\n",
    "    'Mar': '03',\n",
    "    'Apr': '04',\n",
    "    'May': '05',\n",
    "    'Jun': '06',\n",
    "    'Jul': '07',\n",
    "    'Aug': '08',\n",
    "    'Sep': '09',\n",
    "    'Oct': '10',\n",
    "    'Nov': '11',\n",
    "    'Dec': '12',\n",
    "}\n",
    "pd_data_train_y = numpy.zeros(pd_data_train.shape[0], dtype = 'int')\n",
    "\n",
    "for i in range(0, pd_data_train.shape[0]) :\n",
    "    tmp = pd_data_train['Date'][i]\n",
    "    pd_data_train.at[i, 'Date'] = tmp[7:11] + switcher_month.get(tmp[3:6]) + tmp[0:2]\n",
    "    if i != 0:\n",
    "        prev = pd_data_train.at[i-1, 'Close Price']\n",
    "        cur = pd_data_train.at[i, 'Close Price']\n",
    "        if prev > cur :\n",
    "            pd_data_train_y[i] = 0\n",
    "        else :\n",
    "            pd_data_train_y[i] = 1\n",
    "\n",
    "pd_data_train_x = pd_data_train[['Date']]\n",
    "pd_data_train_x = pd_data_train_x.drop([0])\n",
    "\n",
    "pd_data_train_y = pd.DataFrame(pd_data_train_y, columns=['result'])\n",
    "pd_data_train_y = pd_data_train_y.drop([0])"
   ]
  },
  {
   "cell_type": "markdown",
   "metadata": {},
   "source": [
    "# 2. highest classification accuracy in this dataset"
   ]
  },
  {
   "cell_type": "markdown",
   "metadata": {},
   "source": [
    "三種方法做出來的準確度都一樣，且猜測的部份都是猜 1，若看機率，發現 1 的機率大概0.52多\n",
    "\n",
    "主要原因大概就是長久來看股價是一直往上升的，這點把資料視覺化就一目了然，\n",
    "\n",
    "只看這種二元的結果基本上不管用什麼做，結果都會一樣。\n",
    "\n",
    "若換成其他 dataset 同樣是股票且都有往上爬的趨勢結果應該不會改變，\n",
    "\n",
    "若是某一隻股價漲跌是斷斷續續的，那結果一定不一樣"
   ]
  },
  {
   "cell_type": "markdown",
   "metadata": {},
   "source": [
    "# 3. How to improve classifiers ?\n"
   ]
  },
  {
   "cell_type": "markdown",
   "metadata": {},
   "source": [
    "這邊只討論 **是否會上升的機率** 與 **預測股價**，二元預測沒有什麼討論空間，\n",
    "\n",
    "可以改用時間序列相關的 classifier ，其中使用宏觀角度去預測股價，\n",
    "\n",
    "可能會比用回歸法預測還準確，\n",
    "\n",
    "因為股價是會受到現實影響（e.g. XXX說參選總統，XX股價就無預警下跌），\n",
    "\n",
    "只用先前數據去預測用想的就覺得很不實際，不管怎麼調整參數，都有一定上限，\n",
    "\n",
    "或者是用機器學習去分析新聞資訊，再配合網路爬蟲，\n",
    "\n",
    "耗費大量功夫或許可做到與現實事件結合的股價預測程式。"
   ]
  },
  {
   "cell_type": "code",
   "execution_count": null,
   "metadata": {},
   "outputs": [],
   "source": []
  }
 ],
 "metadata": {
  "kernelspec": {
   "display_name": "Python 3",
   "language": "python",
   "name": "python3"
  },
  "language_info": {
   "codemirror_mode": {
    "name": "ipython",
    "version": 3
   },
   "file_extension": ".py",
   "mimetype": "text/x-python",
   "name": "python",
   "nbconvert_exporter": "python",
   "pygments_lexer": "ipython3",
   "version": "3.6.7"
  }
 },
 "nbformat": 4,
 "nbformat_minor": 2
}
